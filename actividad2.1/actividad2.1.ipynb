{
 "cells": [
  {
   "cell_type": "code",
   "execution_count": 1,
   "metadata": {},
   "outputs": [],
   "source": [
    "import numpy as np\n",
    "import pandas as pd\n",
    "import matplotlib.pyplot as plt\n",
    "import seaborn as sns\n"
   ]
  },
  {
   "cell_type": "code",
   "execution_count": null,
   "metadata": {},
   "outputs": [],
   "source": [
    "#Carga desde un archivo de excel sin indice\n",
    "df = pd.read_excel('Detalle precios y productos fabricados 2022.xlsx')\n",
    "print(df)"
   ]
  },
  {
   "cell_type": "code",
   "execution_count": 13,
   "metadata": {},
   "outputs": [],
   "source": [
    "#Filtro por objeto\n",
    "# Utilizo la columan vendedor con el valor \"ALFREDO CANELA\"\n",
    "filtro1 = df[(df['NOMBRE_VENDEDOR'] == \"ALFREDO CANELA\")]\n",
    "filtro1\n",
    "filtro1.to_csv('actividad2.1_filtro1.csv')\n",
    "\n",
    "\n"
   ]
  },
  {
   "cell_type": "code",
   "execution_count": null,
   "metadata": {},
   "outputs": [],
   "source": [
    "#Filtro por filas\n",
    "# Filtro por las filas consecutivas 3 a 10 con todas las columnas\n",
    "filtro2 = df.iloc[3:11, :] #filas consecutivas\n",
    "\n",
    "filtro2\n",
    "filtro2.to_csv('actividad2.1_filtro2.csv')\n"
   ]
  },
  {
   "cell_type": "code",
   "execution_count": null,
   "metadata": {},
   "outputs": [],
   "source": [
    "#Filtro por columnas\n",
    "# Filtro por las columnas consecutivas 1 a 3 con todas las filas\n",
    "filtro3 = df.iloc[:, 1:3 ] #columnas consecutivas\n",
    "\n",
    "\n",
    "filtro3\n",
    "# filtro3.to_csv('actividad2.1_filtro3.csv')"
   ]
  },
  {
   "cell_type": "code",
   "execution_count": null,
   "metadata": {},
   "outputs": [],
   "source": [
    "\n",
    "# Cambio el indice a la columna NOMBRE_VENDEDOR\n",
    "df1 = pd.read_excel('Detalle precios y productos fabricados 2022.xlsx', index_col='NOMBRE_VENDEDOR')\n",
    "df1"
   ]
  },
  {
   "cell_type": "code",
   "execution_count": null,
   "metadata": {},
   "outputs": [],
   "source": [
    "#paso 2: aplicamos filtro de filas vs columnas\n",
    "# Filtro por las filas \"ALFREDO CANELA\" y \"DIEGO ARMANDO LEON DURAN\" con la columna \"COSTO_TOTAL_CALCULADO\"\n",
    "filtro4 = df1.loc[[\"ALFREDO CANELA\", \"DIEGO ARMANDO LEON DURAN\"], [\"COSTO_TOTAL_CALCULADO\"]]\n",
    "filtro4\n",
    "filtro4.to_csv('actividad2.1_filtro4.csv')"
   ]
  },
  {
   "cell_type": "code",
   "execution_count": null,
   "metadata": {},
   "outputs": [],
   "source": [
    "#filtro por cabecera\n",
    "# Filtro por las primeras 5 filas\n",
    "filtro5 = df.head()\n",
    "filtro5\n",
    "filtro5.to_csv('actividad2.1_filtro5.csv')"
   ]
  },
  {
   "cell_type": "code",
   "execution_count": 25,
   "metadata": {},
   "outputs": [],
   "source": [
    "#filtro por cola\n",
    "# Filtro por las ultimas 5 filas\n",
    "filtro6 = df.tail()\n",
    "filtro6\n",
    "filtro6.to_csv('actividad2.1_filtro6.csv')"
   ]
  },
  {
   "cell_type": "code",
   "execution_count": null,
   "metadata": {},
   "outputs": [],
   "source": [
    "#filtro por camparacion\n",
    "# Utilizo la columna COSTO_TOTAL_CALCULADO con el valor mayor a 5000\n",
    "filtro7 = df[df['COSTO_TOTAL_CALCULADO'] > 5000]\n",
    "filtro7\n",
    "filtro7.to_csv('actividad2.1_filtro7.csv')"
   ]
  },
  {
   "cell_type": "code",
   "execution_count": 34,
   "metadata": {},
   "outputs": [],
   "source": [
    "#Filtro Y\n",
    "# Utilizo la columna COSTO_TOTAL_CALCULADO con el valor menor a 6000 y la columna NOMBRE_CLIENTE con el valor \"ELICAMEX\"\n",
    "filtro8 = df[(df[\"COSTO_TOTAL_CALCULADO\"] < 6000) & (df[\"NOMBRE_CLIENTE\"] == \"ELICAMEX\")]\n",
    "filtro8\n",
    "filtro8.to_csv('actividad2.1_filtroY.csv')\n"
   ]
  },
  {
   "cell_type": "code",
   "execution_count": null,
   "metadata": {},
   "outputs": [],
   "source": [
    "#Filtro O\n",
    "# Utilizo la columna COSTO_TOTAL_CALCULADO con el valor menor a 6000 o la columna SUBTOTAL_PARTIDA con el valor menor a 2000\n",
    "filtro9 = df[(df[\"COSTO_TOTAL_CALCULADO\"] < 6000) | (df[\"SUBTOTAL_PARTIDA\"] <2000)]\n",
    "filtro9\n",
    "filtro9.to_csv('actividad2.1_filtroOR.csv')"
   ]
  },
  {
   "cell_type": "code",
   "execution_count": null,
   "metadata": {},
   "outputs": [],
   "source": [
    "#Filtro not\n",
    "# Utilizo la columna CANT con el valor diferente a 1\n",
    "filtro10 = df[~(df[\"CANT\"] == 1)]\n",
    "filtro10\n",
    "filtro10.to_csv('actividad2.1_filtroNOT.csv')\n"
   ]
  }
 ],
 "metadata": {
  "kernelspec": {
   "display_name": "inteligenciaDeNegociosVenv",
   "language": "python",
   "name": "python3"
  },
  "language_info": {
   "codemirror_mode": {
    "name": "ipython",
    "version": 3
   },
   "file_extension": ".py",
   "mimetype": "text/x-python",
   "name": "python",
   "nbconvert_exporter": "python",
   "pygments_lexer": "ipython3",
   "version": "3.13.0"
  }
 },
 "nbformat": 4,
 "nbformat_minor": 2
}
