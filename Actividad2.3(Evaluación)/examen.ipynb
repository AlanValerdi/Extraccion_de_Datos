{
 "cells": [
  {
   "cell_type": "code",
   "execution_count": 1,
   "metadata": {},
   "outputs": [],
   "source": [
    "import numpy as np\n",
    "import pandas as pd\n",
    "import matplotlib.pyplot as plt\n",
    "import seaborn as sns"
   ]
  },
  {
   "cell_type": "code",
   "execution_count": 18,
   "metadata": {},
   "outputs": [],
   "source": [
    "#carga de datos\n",
    "df = pd.read_csv('madrid_spain.csv')\n",
    "# pd.set_option('display.max_columns', None) Codigo para mostrar todas las columnas"
   ]
  },
  {
   "cell_type": "code",
   "execution_count": null,
   "metadata": {},
   "outputs": [],
   "source": [
    "# a)Los registros de 5 \"host name\" diferentes\n",
    "# En este caso solo imprimi los 5 primeros registros ya que cumplen con la condicion, en caso de que no se podria hacer un .loc con los registros que cumplan con la condicion\n",
    "# para este filtro no se utilizo como tal una variable filtro ya que se puede hacer directamente con el head\n",
    "filtro1 = df.head(5) \n",
    "filtro1\n",
    "filtro1.to_csv('FiltroA.csv')\n"
   ]
  },
  {
   "cell_type": "code",
   "execution_count": null,
   "metadata": {},
   "outputs": [],
   "source": [
    "#b) Los registros de los host que se hallan unido a Airbnb \"antes del año 2019\"\n",
    "# Primero convierto la columna a datetime para evitar errores en la comparacion y luego lo filtro por la condicion\n",
    "# para este filtro se utilizo una variable filtro ya que se va a guardar en un archivo csv asi como la columna host_since\n",
    "df['host_since'] = pd.to_datetime(df['host_since'])\n",
    "filtro2 = df[df['host_since'] < '2019-01-01']\n",
    "filtro2.to_csv('FiltroB.csv')\n",
    "\n"
   ]
  },
  {
   "cell_type": "code",
   "execution_count": 63,
   "metadata": {},
   "outputs": [],
   "source": [
    "#c) Los registros de los host que responden \"a más tardar en 1 día\"\n",
    "# para este filtro se utilizo una variable filtro3 y la columna host_response_time\n",
    "filtro3 = df[df['host_response_time'] == 'within a day']\n",
    "filtro3\n",
    "\n",
    "filtro3.to_csv('filtroC.csv')\n",
    "\n",
    "#En caso de no ser SOLO 1 dia entonces es:\n",
    "# filtro3d1 = df[(df[\"host_response_time\"] == 'within a few hours') | (df[\"host_response_time\"] == 'within an hour') | (df[\"host_response_time\"] == 'within a day')]\n",
    "# filtro3d1\n"
   ]
  },
  {
   "cell_type": "code",
   "execution_count": null,
   "metadata": {},
   "outputs": [],
   "source": [
    "#d) Los registros que tengan \"al menos 5 accommodates\"\n",
    "# Aqui simplemente utilizo los operadores de comparacion para filtrar los registros que cumplan con la condicion\n",
    "# para este filtro se utilizo una variable filtro4 y la columna accommodates\n",
    "filtro4 = df[df['accommodates'] >= 5]\n",
    "filtro4\n",
    "filtro4.to_csv('FiltroD.csv')"
   ]
  },
  {
   "cell_type": "code",
   "execution_count": 71,
   "metadata": {},
   "outputs": [],
   "source": [
    "#e) Los registros de los tipos de cuarto: \"Entire home\" y \"Private room\"\n",
    "# Aqui utilizo el operador logico OR para filtrar los registros que cumplan con la condicion\n",
    "# Aqui no sabia si Entire home se referia a Entire home/apt o solo a Entire home, por lo que hice el filtro con el primero\n",
    "# para este filtro se utilizo una variable filtro5 y la columna room_type\n",
    "filtro5 = df[(df['room_type'] == 'Entire home') | (df['room_type'] == 'Private room')]\n",
    "filtro5\n",
    "filtro5.to_csv('FiltroE.csv')"
   ]
  },
  {
   "cell_type": "code",
   "execution_count": null,
   "metadata": {},
   "outputs": [],
   "source": [
    "#f) Los registros que \"a lo mucho cuenten con 4 camas\"\n",
    "# Aqui utilizo el operador de comparacion para filtrar los registros que cumplan con la condicion\n",
    "# para este filtro se utilizo una variable filtro6 y la columna beds\n",
    "filtro6 = df[df['beds'] <= 4]\n",
    "filtro6\n",
    "filtro6.to_csv('FiltroF.csv')"
   ]
  },
  {
   "cell_type": "code",
   "execution_count": 67,
   "metadata": {},
   "outputs": [],
   "source": [
    "#g)  Los registros que \"tengan 1 baño o que sean superhost\" pero con la condición de que \"todos sean instant_bookable\"\n",
    "# Aqui utilizo los operadores de comparacion y logico para filtrar los registros que cumplan con la condicion utilizando un OR y AND\n",
    "# estando el or dentro de los parentesis y el and fuera de los parentesis para que primero se haga la comparacion de los baños y superhost y luego la de instant_bookable\n",
    "# para este filtro se utilizo una variable filtro7 y las columnas bathrooms, host_is_superhost e instant_bookable\n",
    "filtro7 = df[((df['bathrooms'] == 1) | (df['host_is_superhost'] == 't')) & (df['instant_bookable'] == 't')]\n",
    "filtro7 \n",
    "\n",
    "filtro7.to_csv('FiltroG.csv')"
   ]
  },
  {
   "cell_type": "code",
   "execution_count": null,
   "metadata": {},
   "outputs": [],
   "source": [
    "#h Los registros cuyo \"review_scores_cleanliness sea menor de 3 y review_scores_ rating sea mayor de 3\"\n",
    "# Aqui utilizo los operadores de comparacion para filtrar los registros que cumplan con la condicion\n",
    "# para este filtro se utilizo una variable filtro8 y las columnas review_scores_cleanliness y review_scores_rating\n",
    "filtro8 = df[(df['review_scores_cleanliness'] < 3) & (df['review_scores_rating'] > 3)]\n",
    "filtro8\n",
    "\n",
    "filtro8.to_csv('FiltroH.csv')"
   ]
  }
 ],
 "metadata": {
  "kernelspec": {
   "display_name": "inteligenciaDeNegociosVenv",
   "language": "python",
   "name": "python3"
  },
  "language_info": {
   "codemirror_mode": {
    "name": "ipython",
    "version": 3
   },
   "file_extension": ".py",
   "mimetype": "text/x-python",
   "name": "python",
   "nbconvert_exporter": "python",
   "pygments_lexer": "ipython3",
   "version": "3.13.0"
  }
 },
 "nbformat": 4,
 "nbformat_minor": 2
}
